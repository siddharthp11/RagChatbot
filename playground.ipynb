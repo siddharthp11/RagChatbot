{
 "cells": [
  {
   "cell_type": "code",
   "execution_count": 1,
   "id": "24c72953",
   "metadata": {},
   "outputs": [],
   "source": [
    "import requests\n",
    "from bs4 import BeautifulSoup"
   ]
  },
  {
   "cell_type": "code",
   "execution_count": 2,
   "id": "bfccbf89",
   "metadata": {},
   "outputs": [],
   "source": [
    "import numpy as np\n",
    "import pandas as pd \n",
    "import openai as ai\n",
    "import re\n",
    "import nltk\n",
    "import pickle \n",
    "import time\n",
    "\n",
    "# import matplotlib.pyplot as plt \n",
    "# import seaborn as sns\n",
    "# import spacy"
   ]
  },
  {
   "cell_type": "code",
   "execution_count": 4,
   "id": "d801f452",
   "metadata": {},
   "outputs": [],
   "source": [
    "page = requests.get('https://rajeshjain.com/marketing/').content\n",
    "soup = BeautifulSoup(page, 'html.parser')"
   ]
  },
  {
   "cell_type": "code",
   "execution_count": 5,
   "id": "975b26e3",
   "metadata": {},
   "outputs": [],
   "source": [
    "hrefs = soup.find(\"div\", {\"class\":\"entry-content\"}).find_all('a', href = True)\n",
    "articles = [tag['href'] for tag in hrefs][:52]"
   ]
  },
  {
   "cell_type": "code",
   "execution_count": 6,
   "id": "8902102b",
   "metadata": {},
   "outputs": [],
   "source": [
    "def process(soup):\n",
    "  \n",
    "    for node in soup.findAll(\"div\")[-5:] + soup.findAll(\"p\")[:1] :node.decompose()\n",
    "    \n",
    "    for node in soup(['style', 'script']):node.decompose()\n",
    "  \n",
    "    return ' '.join(soup.stripped_strings)\n",
    "\n",
    "\n",
    "data = {'title': [], 'content':[]}\n",
    "\n",
    "for c, article in enumerate(articles):\n",
    "    \n",
    "    curr_page = requests.get(article).content\n",
    "    curr_soup = BeautifulSoup(curr_page, 'html.parser')\n",
    "    try:\n",
    "        title = curr_soup.find(\"header\", {\"class\":\"entry-header\"}).getText().strip()\n",
    "        \n",
    "        content = curr_soup.find(\"div\", {\"class\":\"entry-content\"})\n",
    "        \n",
    "        \n",
    "        content = process(content)\n",
    "\n",
    "        data['title'].append(title)\n",
    "        data['content'].append(content)\n",
    "    except AttributeError:\n",
    "        print(curr_soup.getText())"
   ]
  },
  {
   "cell_type": "code",
   "execution_count": 7,
   "id": "cd97b9bd",
   "metadata": {},
   "outputs": [],
   "source": [
    "def get_tokenized_corpus(data):\n",
    "    \n",
    "    df = pd.DataFrame(data)\n",
    "    corpus = \"\"\n",
    "    for c,row in df.iterrows():\n",
    "        article = \"Title - \" + row[\"title\"] + \". \" + row[\"content\"] + \" \"\n",
    "        corpus += article\n",
    "    \n",
    "    lines = nltk.word_tokenize(corpus)\n",
    "    return lines\n",
    "\n"
   ]
  },
  {
   "cell_type": "code",
   "execution_count": 8,
   "id": "7244e2e3",
   "metadata": {},
   "outputs": [],
   "source": [
    "lines = get_tokenized_corpus(data)"
   ]
  },
  {
   "cell_type": "code",
   "execution_count": 9,
   "id": "33aa0b85",
   "metadata": {},
   "outputs": [],
   "source": [
    "'''\n",
    "Split the corpus into blocks of size block_size, incrementing by fixed amount each time\n",
    "''' \n",
    "def block_text(lines, token_limit):\n",
    "\n",
    "    blocks = list()\n",
    "\n",
    "    start = 0\n",
    "    end = token_limit\n",
    "\n",
    "    while end < len(lines):\n",
    "        \n",
    "        while lines[end] != '.': end += 1\n",
    "        \n",
    "        blocks.append(' '.join(lines[start : end + 1]))\n",
    "\n",
    "        start = end + 1\n",
    "        end += token_limit\n",
    "    \n",
    "    return blocks\n"
   ]
  },
  {
   "cell_type": "code",
   "execution_count": 10,
   "id": "5984890f",
   "metadata": {},
   "outputs": [],
   "source": [
    "chunks = block_text(lines, 500)\n",
    "chunks_df = pd.DataFrame(chunks, columns=[\"content\"])"
   ]
  },
  {
   "cell_type": "code",
   "execution_count": 12,
   "metadata": {},
   "outputs": [],
   "source": [
    "with open('chunks.pkl', 'wb') as file:\n",
    "    pickle.dump(chunks, file)"
   ]
  },
  {
   "cell_type": "code",
   "execution_count": 12,
   "id": "c19d6bce",
   "metadata": {},
   "outputs": [],
   "source": [
    "ai.api_key = \"\""
   ]
  },
  {
   "cell_type": "code",
   "execution_count": 16,
   "id": "045e8894",
   "metadata": {},
   "outputs": [],
   "source": [
    "MODEL_NAME = \"curie\"\n",
    "\n",
    "DOC_EMBEDDINGS_MODEL = f\"text-search-{MODEL_NAME}-doc-001\"\n",
    "QUERY_EMBEDDINGS_MODEL = f\"text-search-{MODEL_NAME}-query-001\"\n",
    "\n",
    "def get_embedding(text, model):\n",
    "    \n",
    "    try:\n",
    "       \n",
    "        result = ai.Embedding.create(\n",
    "        model=model,\n",
    "        input=text\n",
    "        )\n",
    "\n",
    "        print(\"success\")\n",
    "        return result[\"data\"][0][\"embedding\"]\n",
    "\n",
    "    except Exception as e:\n",
    "\n",
    "        print(\"sleeping\")\n",
    "        time.sleep(60)\n",
    "        return get_embedding(text, model)\n",
    "\n",
    "\n",
    "def get_doc_embedding(text, index):\n",
    "    \n",
    "    print(f\"chunk {index}: \", end = \"\")\n",
    "    return get_embedding(text, DOC_EMBEDDINGS_MODEL)\n",
    "\n",
    "def get_query_embedding(text):\n",
    "    return get_embedding(text, QUERY_EMBEDDINGS_MODEL)\n",
    "\n",
    "def compute_doc_embeddings(df):\n",
    "\n",
    "    return {\n",
    "        idx: get_doc_embedding(r.content.replace(\"\\n\", \" \"), idx) for idx, r in df.iterrows()\n",
    "    }"
   ]
  },
  {
   "cell_type": "code",
   "execution_count": null,
   "metadata": {},
   "outputs": [],
   "source": [
    "document_embeddings = compute_doc_embeddings(chunks_df)\n",
    "# TODO: Save the embeddings to csv file. "
   ]
  },
  {
   "cell_type": "code",
   "execution_count": 17,
   "id": "c10a52dd",
   "metadata": {},
   "outputs": [],
   "source": [
    "document_embeddings = pd.read_csv(\"embeddings.csv\")\n",
    "document_embeddings = document_embeddings.drop('Unnamed: 0', axis = 1)"
   ]
  },
  {
   "cell_type": "code",
   "execution_count": null,
   "metadata": {},
   "outputs": [],
   "source": []
  },
  {
   "cell_type": "code",
   "execution_count": 18,
   "id": "ff977fec",
   "metadata": {},
   "outputs": [],
   "source": [
    "def vector_similarity(x: list[float], y: list[float]) -> float:\n",
    "    return np.dot(np.array(x), np.array(y))\n",
    "\n",
    "def order_document_sections_by_query_similarity(query: str, contexts: dict[(str, str), np.array]) -> list[(float, (str, str))]:\n",
    "\n",
    "    query_embedding = get_query_embedding(query)\n",
    "    \n",
    "    document_similarities = sorted([\n",
    "        (vector_similarity(query_embedding, doc_embedding), doc_index) for doc_index, doc_embedding in contexts.items()\n",
    "    ], reverse=True)\n",
    "    \n",
    "    return document_similarities"
   ]
  },
  {
   "cell_type": "code",
   "execution_count": 64,
   "id": "182c88ae",
   "metadata": {},
   "outputs": [],
   "source": [
    "def get_response(question, context):\n",
    "    \n",
    "    \n",
    "    prompt = \"\"\"Answer the question as truthfully as possible using the provided text, if the answer is not contained in the text, say ' I don't know'.\"\n",
    "\n",
    "    Context: \n",
    "    {ctx}\n",
    "\n",
    "    Q: {question}\n",
    "    A:\"\"\".format(ctx=context, question=question)\n",
    "\n",
    "    print(prompt)\n",
    "\n",
    "\n",
    "\n",
    "    response = ai.Completion.create(\n",
    "                prompt=prompt,\n",
    "                temperature=0,\n",
    "                max_tokens=300,\n",
    "                top_p=1,\n",
    "                frequency_penalty=0,\n",
    "                presence_penalty=0,\n",
    "                model=\"text-davinci-002\"\n",
    "                )[\"choices\"][0][\"text\"].strip(\" \\n\")\n",
    "                \n",
    "    return response"
   ]
  },
  {
   "cell_type": "code",
   "execution_count": 59,
   "id": "2f6fd7b2",
   "metadata": {},
   "outputs": [],
   "source": [
    "def get_context(question):\n",
    "    info = order_document_sections_by_query_similarity(question, document_embeddings)[:5]\n",
    "    context = \"\"\n",
    "    for chunk in info:\n",
    "        index = int(chunk[1])\n",
    "        context += chunks[index] + \"\\n\"\n",
    "    \n",
    "    return context"
   ]
  },
  {
   "cell_type": "code",
   "execution_count": 71,
   "id": "8beffd10",
   "metadata": {},
   "outputs": [
    {
     "name": "stdout",
     "output_type": "stream",
     "text": [
      "success\n",
      "Answer the question as truthfully as possible using the provided text, if the answer is not contained in the text, say ' I don't know'.\"\n",
      "\n",
      "    Context: \n",
      "    Half of the adtech spends were wasted because of reacquisition and wrong acquisition , but brands had no alternative but to keep the spends going . The answer lay not in trying to optimise adtech spending but in solving the martech problem – deepening relationships with existing customers . The solution to both the loyalty and adtech problems lay in the martech world . If a brand ’ s existing customers could pay attention to incoming messages , it would be much easier to drive repeat transactions thus solving the loyalty problems . If a brand ’ s most loyal customers ( “ Best Customers ” ) could refer their family and friends , the cost of new customer acquisition could be sharply reduced . What was needed was an incentive mechanism to enable brands to persuade customers for their time and network . This is where MuDAO with its tokens came in . The attention and engagement tokens had no reason to be limited to just that ; brands could incentivise transactions with them . The advantage of µ was that it worked across brands already , and there was an exchange where it could easily be purchased by brands . Consumers loved the tokens – the marketplace gave them spending options , and it also served as an investment that appreciated steadily . The same hotline that brands had crafted for the upstream of transactions ( attention and engagement ) could now work to fast-track transactions with the tokens serving as the replacement for a brand ’ s own loyalty program . Customers were also selectively incentivised for referrals – a zero-cost method for new customer acquisition . The key for both these programs was switching budgets from adtech to martech . The 10 % marketing budget spend on existing customers ( martech ) rapidly rose as the wasteful adtech spending was eliminated . In this switch , brands also discovered their path to profitability as the RoI for martech spending was much greater than that of adtech . 9 The Martech Era Written from a future viewpoint… So was born the martech era – the µniverse with a token ( µ ) at its heart ! A universal token for attention , engagement and transactions . A token that worked across brands . A token where the price was set by no one and everyone . A token whose value was determined by the collective actions of the ecosystem of brands , service providers and customers . A token that took marketing into the Web3 world . A token , which by its simple idea of putting a price to an individual ’ s attention , transformed brand-customer relationships . A token where brands knew that their voice would be heard ( and not ignored ) by their customers . A token that delighted customers . A token that put brands on the path to exponential , forever , profitable growth . A token that ended the adtech era and ushered in the martech era .\n",
      "These tokens never expire or lose value , unlike traditional reward points. ” Deloitte : “ Customer loyalty and engagement can make or break companies , and as such , rewards programs represent strategic investments for all types of organizations . But as they have been growing rapidly , they are also still ailing due to inefficiencies . There are several reasons for this , but first and foremost is we believe the paucity of uniform management systems is a primary source of members ’ lack of activity… The implementation of blockchain can drive the customer experience to the next level , and here ’ s how : reducing costs , enabling a frictionless system , making the process near real-time , providing a secure environment , and creating unique business opportunities. ” 5 Blockchain and Loyalty – 2 Forbes : “ Traditional loyalty programs present challenges for both companies and customers . Organizations are concerned with estimating liability , personalization , improving conversion rates and uniformity among channels . From the customer side , there are challenges with restrictions and rules , reward options and the most common problem : losing track of accumulated rewards points . This isn ’ t surprising given that the average U.S. household participates in up to 29 different loyalty programs . Armed with this information , companies that want to stay top of mind are looking to develop easy-to-use , secure and flexible programs that engage their customers . Blockchain has the potential to improve loyalty programs for both companies and consumers. ” Abderahman Rejeb , John G. Keogh and Horst Treiblmaier : “ Blockchain technology is based on peer-to-peer communication which alters market structures by fostering disintermediation , namely the removal of intermediaries who process and filter data streams and add cost . By creating immutable and shared data records , blockchain technology can also help to improve data quality and facilitate data access . From a consumer-centric perspective , blockchain technology has the potential to substantially transform consumer relationships by enhancing data and information transparency and improving privacy and security . It also allows for innovative forms of consumer loyalty programs which might help to create additional value. ” CNBC : “ One of the biggest upsides of crypto-based loyalty points is that they can be exchanged for fiat currency or other cryptocurrencies . Normal loyalty points , on the other hand , can only be redeemed for certain products and services . If you are not in need of these products and services , then your loyalty points hold no value . Also , with a normal loyalty programme , the company offering you the benefits not only knows your name and address but is also privy to your spending habits , redemption patterns and other unique consumer information . They can use this data to spam you with ads or sell this data to other parties . However , with crypto-based loyalty programmes you get higher levels of privacy and anonymity .\n",
      "The big difference was that in the adtech world , brands had no control on who was being targeted and thus there was plenty of scope for abuse . In the martech world , brands could decide which of their customers were offered the rewards ; their identity was known , there was a transaction history , and the customers were in a journey that brands with the tokens could direct . The permission-only Micronbox helped eliminate the spam problem entirely . Only messages with an opt-in would compete for an end user ’ s attention , with the tokens offering the incentive add-on . This led to a better relationship between brands and their customers : brands now had a hotline to their customers , and customers had brands competing for and paying for their attention . MuDAO became a very good crypto case study . The underlying use of blockchain enabled the creation of a trustless and permissionless system . No single entity could mould the outcome to their wishes . The voluntary trades on the exchange determined the price of the tokens . An upper cap on the total tokens in circulation ( much like the 21 million cap for Bitcoins ) created the scarcity that helped drive a steady increase in the value of the tokens , benefiting the entire Attention ecosystem . 8 Written from a future viewpoint… DAO vs Duo With the attention problem solved , it was time to move on to two other challenges faced by brands – repeat purchases ( loyalty ) and the rapidly increasing cost of new customer acquisition . MuDAO ’ s tokens offered the answer , and in doing so , upended the adtech world . A bit of history is in order to better understand loyalty and adtech . Brands came up with loyalty programs for the twin purposes of collecting data and driving repeat purchases . The airline frequent flyer programs were the most successful among loyalty programs – because the differential between cost and value was very high . ( A free ticket based on miles that we treasure costs the airline practically nothing . ) The flip side of the proliferation of loyalty programs was that it became impossible for customers to track their points , and in many cases , the points earned were too small to be meaningfully redeemed . What was needed was a pan-brand loyalty program , but one which could not be used by any single entity to its advantage . For a brief period , airline loyalty programs played the role very well . In the adtech world , Google and Facebook had established a powerful duopoly . Any new digital customer acquisition had to be driven via these two platforms . Their auction-based system ensured that bidding for popular keywords or targeting desirable customer segments drove prices higher . The “ cost of a click ” increasingly hurt profits as brands were forced to compete in a war that most could not win .\n",
      "It was always a travesty that brands spent 90 % of their marketing budgets on acquiring new customers and just 10 % on retention and engagement with their existing customers . Until the emergence of MuDAO , there was no easy solution . Brands had only three ways to bring their existing customers to their properties ( websites/apps ) – either they were a monopoly , or they had phenomenal mental recall so consumers acted on their own to initiate the engagement , or they had to rely on push messages to pull people . With every brand trying to do the same , the inboxes of consumers were flooded . This information overload caused the attention recession problem which led to retention recession , and which in turn led to continuous churn – with the result that even more money was spent on the adtech platforms for reacquisition . The tokens of MuDAO stopped the bleeding spends and also transformed the end customer mindset from ‘ delete to delight. ’ The gamification of the inbox rewarded time , attention and engagement . It created a desire to check out new messages from brands . It brought in excitement and rewards . MuDAO solved the problem by following Buckminister Fuller ’ s advice : “ You never change things by fighting the existing reality . To change something , build a new model that makes the existing model obsolete. ” The success of MuDAO was a great example of Web3 and the blockchain in action . For many years , experts had questioned the usefulness of blockchain beyond the creation of cryptocurrencies , many with dubious value . MuDAO created genuine value for all stakeholders – brands benefited from their customers ’ attention , and customers were paid for their time . Waste on both sides was reduced – brands spent less , and customers got less spam . An economic arrangement built in a decentralised manner helped address an otherwise intractable problem . * * Back to the present… What I have written in this series is a vision of tomorrow ’ s world and shown a pathway to getting there . There are many different futures that can be imagined . I don ’ t know if it will play out the way I have articulated , but what I do know is that some of us have to envision it and start talking about it , so some entrepreneurs can get inspired and start building it out . Constructing the µniverse will be a big leap . Every business in the world has customers , and if that relationship can be made better , we all benefit ! The Martech era and the µniverse are ideas whose time has come . Title - Loyalty 2.0 : How Brands can Tokenise Customer Attention and Data . 1 1.0 A friend recently called me up and asked me if I was a member of a specific loyalty program .\n",
      "They thus run the risk of being debased . This is exactly the problem that is faced by fiat currencies with the reins in the hands of central bankers who owe their allegiance to the politicians and not the people . This is one of the reasons behind the growth of cryptocurrencies as a new asset class . Loyalty programs could become pan-brand and governance overseen by a decentralised autonomous organisation ( DAO ) ; in other words , run by rules , nor rulers . This could dramatically increase trust and therefore usage , which would be beneficial to participating brands . Combine these ideas together and one has the foundation for Loyalty 2.0 – an app-enabled , pan-brand , token-based , incentive-driven loyalty program built on user attention and data . 4 Blockchain and Loyalty – 1 There has been much discussion on blockchain and loyalty in recent years . Here is a sampling . ICF Next : “ In loyalty , blockchain capabilities tease the idea of portability or fungibility of loyalty currency to consumers . This makes sense – of course consumers would be excited by the opportunity to easily trade or exchange points into cash or another currency . While this ability may prove attractive to customers , it is typically at odds with a program ’ s goals to generate brand affinity , control point liability and cost , and drive redemptions of the brand ’ s products and incremental business . Certain industries , however , could see immense benefit from this approach . Industry experts suggest the travel industry is ripe for a blockchain-based innovation . While retail and credit card programs are usually simpler in design with a single currency and few partnerships , travel programs are more complex , with multiple currencies and partnerships that have different earning rates . Blockchain could support a near-real-time and secure record of loyalty transactions : earning , redeeming , exchanging , transferring , etc. ” Clutch : “ Although loyalty programs are substantial , they are also fragmented ; there are too many loyalty programs , each with its own way of earning and redeeming . This can lead to frustrated customers and a lot of unused points… Most loyalty programs are very limited , which discourages customer engagement . Customers can usually only redeem points with the same retailer they earned them from . Placing limitations on how and where to spend points decreases the loyalty program ’ s overall value . Through blockchain , companies can decentralize their loyalty programs and capitalize on blockchain technology benefits … a more streamlined experience , loyalty rewards that increase in value , a safer experience for everyone , an investment that pays off , and a more efficient process. ” BigCommerce : “ Blockchain technology can solve for some of these issues with traditional ecommerce loyalty programs by connecting owners and users of multiple programs . This technology can simplify the process of applying and keep consumers from having wallets overflowing with rewards cards or passwords to multiple different reward accounts .\n",
      "\n",
      "\n",
      "    Q: Compare loyalty 2.0 and loyalty 1.0? Explain in detail if possible.\n",
      "    A:\n",
      "Loyalty 2.0 is an app-enabled, pan-brand, token-based, incentive-driven loyalty program built on user attention and data. Loyalty 1.0 is a traditional loyalty program that is limited to one brand, has no incentive-based system, and does not use user data.\n"
     ]
    }
   ],
   "source": [
    "question = \"Compare loyalty 2.0 and loyalty 1.0? Explain in detail if possible.\"\n",
    "context = get_context(question)\n",
    "\n",
    "answer = get_response(question, context)\n",
    "\n",
    "print(answer)"
   ]
  },
  {
   "attachments": {},
   "cell_type": "markdown",
   "id": "46ec9e1f",
   "metadata": {},
   "source": [
    "New chat / reset chat : multiple turns\n",
    "Conversational interface. \n",
    "Should be able to change how chunks are created. "
   ]
  }
 ],
 "metadata": {
  "kernelspec": {
   "display_name": "base",
   "language": "python",
   "name": "python3"
  },
  "language_info": {
   "codemirror_mode": {
    "name": "ipython",
    "version": 3
   },
   "file_extension": ".py",
   "mimetype": "text/x-python",
   "name": "python",
   "nbconvert_exporter": "python",
   "pygments_lexer": "ipython3",
   "version": "3.9.15"
  },
  "vscode": {
   "interpreter": {
    "hash": "b83ba70d6b48f47c07de5edb6d896e6f38dd2cd1b1a8e7aebd014bdb36c2476c"
   }
  }
 },
 "nbformat": 4,
 "nbformat_minor": 5
}
